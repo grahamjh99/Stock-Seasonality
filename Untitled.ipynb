{
 "cells": [
  {
   "cell_type": "code",
   "execution_count": 1,
   "id": "6a8ad426-0638-4793-bb45-51b1a362de50",
   "metadata": {},
   "outputs": [],
   "source": [
    "import pandas as pd\n",
    "import numpy as py\n",
    "import matplotlib.pyplot as plt\n",
    "\n",
    "# Needed for API key\n",
    "from dotenv import load_dotenv\n",
    "import os\n",
    "import requests"
   ]
  },
  {
   "cell_type": "code",
   "execution_count": 2,
   "id": "144cca57-f55a-467f-ab99-53b79a65a9b5",
   "metadata": {},
   "outputs": [],
   "source": [
    "key = os.getenv('key')"
   ]
  },
  {
   "cell_type": "code",
   "execution_count": 3,
   "id": "e808fa0c-ed98-4420-9fcb-5d6ed83e472d",
   "metadata": {},
   "outputs": [],
   "source": [
    "url = f'https://www.alphavantage.co/query?function=TIME_SERIES_DAILY&symbol=GME&apikey={key}'\n",
    "r = requests.get(url)\n",
    "data = r.json()"
   ]
  },
  {
   "cell_type": "code",
   "execution_count": 4,
   "id": "630bb3e4-af0b-4847-9941-8db9e04b5887",
   "metadata": {},
   "outputs": [
    {
     "data": {
      "text/plain": [
       "{'1. Information': 'Daily Prices (open, high, low, close) and Volumes',\n",
       " '2. Symbol': 'GME',\n",
       " '3. Last Refreshed': '2025-03-10',\n",
       " '4. Output Size': 'Compact',\n",
       " '5. Time Zone': 'US/Eastern'}"
      ]
     },
     "execution_count": 4,
     "metadata": {},
     "output_type": "execute_result"
    }
   ],
   "source": [
    "data['Meta Data']"
   ]
  },
  {
   "cell_type": "code",
   "execution_count": 5,
   "id": "9bf08a3f-3742-4f97-b0dd-b1138efe1137",
   "metadata": {
    "scrolled": true
   },
   "outputs": [],
   "source": [
    "gme_data = data['Time Series (Daily)']"
   ]
  },
  {
   "cell_type": "code",
   "execution_count": 6,
   "id": "a869c2a9-0c9c-4c4f-ab37-45708da140bd",
   "metadata": {},
   "outputs": [
    {
     "data": {
      "text/html": [
       "<div>\n",
       "<style scoped>\n",
       "    .dataframe tbody tr th:only-of-type {\n",
       "        vertical-align: middle;\n",
       "    }\n",
       "\n",
       "    .dataframe tbody tr th {\n",
       "        vertical-align: top;\n",
       "    }\n",
       "\n",
       "    .dataframe thead th {\n",
       "        text-align: right;\n",
       "    }\n",
       "</style>\n",
       "<table border=\"1\" class=\"dataframe\">\n",
       "  <thead>\n",
       "    <tr style=\"text-align: right;\">\n",
       "      <th></th>\n",
       "      <th>1. open</th>\n",
       "      <th>2. high</th>\n",
       "      <th>3. low</th>\n",
       "      <th>4. close</th>\n",
       "      <th>5. volume</th>\n",
       "    </tr>\n",
       "  </thead>\n",
       "  <tbody>\n",
       "    <tr>\n",
       "      <th>2024-10-14</th>\n",
       "      <td>20.75</td>\n",
       "      <td>21.6700</td>\n",
       "      <td>20.460</td>\n",
       "      <td>21.33</td>\n",
       "      <td>6636553.0</td>\n",
       "    </tr>\n",
       "    <tr>\n",
       "      <th>2024-10-15</th>\n",
       "      <td>21.45</td>\n",
       "      <td>21.6800</td>\n",
       "      <td>20.975</td>\n",
       "      <td>21.27</td>\n",
       "      <td>4851908.0</td>\n",
       "    </tr>\n",
       "    <tr>\n",
       "      <th>2024-10-16</th>\n",
       "      <td>21.13</td>\n",
       "      <td>21.7500</td>\n",
       "      <td>21.030</td>\n",
       "      <td>21.66</td>\n",
       "      <td>4264618.0</td>\n",
       "    </tr>\n",
       "    <tr>\n",
       "      <th>2024-10-17</th>\n",
       "      <td>21.50</td>\n",
       "      <td>21.6600</td>\n",
       "      <td>21.230</td>\n",
       "      <td>21.41</td>\n",
       "      <td>3015289.0</td>\n",
       "    </tr>\n",
       "    <tr>\n",
       "      <th>2024-10-18</th>\n",
       "      <td>21.41</td>\n",
       "      <td>21.6050</td>\n",
       "      <td>20.980</td>\n",
       "      <td>21.22</td>\n",
       "      <td>5302231.0</td>\n",
       "    </tr>\n",
       "    <tr>\n",
       "      <th>...</th>\n",
       "      <td>...</td>\n",
       "      <td>...</td>\n",
       "      <td>...</td>\n",
       "      <td>...</td>\n",
       "      <td>...</td>\n",
       "    </tr>\n",
       "    <tr>\n",
       "      <th>2025-03-04</th>\n",
       "      <td>23.77</td>\n",
       "      <td>24.8600</td>\n",
       "      <td>23.440</td>\n",
       "      <td>24.30</td>\n",
       "      <td>5068726.0</td>\n",
       "    </tr>\n",
       "    <tr>\n",
       "      <th>2025-03-05</th>\n",
       "      <td>24.33</td>\n",
       "      <td>25.1600</td>\n",
       "      <td>24.110</td>\n",
       "      <td>25.07</td>\n",
       "      <td>3282452.0</td>\n",
       "    </tr>\n",
       "    <tr>\n",
       "      <th>2025-03-06</th>\n",
       "      <td>24.74</td>\n",
       "      <td>25.0100</td>\n",
       "      <td>24.050</td>\n",
       "      <td>24.20</td>\n",
       "      <td>3421446.0</td>\n",
       "    </tr>\n",
       "    <tr>\n",
       "      <th>2025-03-07</th>\n",
       "      <td>24.00</td>\n",
       "      <td>24.3500</td>\n",
       "      <td>23.520</td>\n",
       "      <td>24.00</td>\n",
       "      <td>3463954.0</td>\n",
       "    </tr>\n",
       "    <tr>\n",
       "      <th>2025-03-10</th>\n",
       "      <td>23.47</td>\n",
       "      <td>23.5799</td>\n",
       "      <td>22.260</td>\n",
       "      <td>22.44</td>\n",
       "      <td>6130533.0</td>\n",
       "    </tr>\n",
       "  </tbody>\n",
       "</table>\n",
       "<p>100 rows × 5 columns</p>\n",
       "</div>"
      ],
      "text/plain": [
       "            1. open  2. high  3. low  4. close  5. volume\n",
       "2024-10-14    20.75  21.6700  20.460     21.33  6636553.0\n",
       "2024-10-15    21.45  21.6800  20.975     21.27  4851908.0\n",
       "2024-10-16    21.13  21.7500  21.030     21.66  4264618.0\n",
       "2024-10-17    21.50  21.6600  21.230     21.41  3015289.0\n",
       "2024-10-18    21.41  21.6050  20.980     21.22  5302231.0\n",
       "...             ...      ...     ...       ...        ...\n",
       "2025-03-04    23.77  24.8600  23.440     24.30  5068726.0\n",
       "2025-03-05    24.33  25.1600  24.110     25.07  3282452.0\n",
       "2025-03-06    24.74  25.0100  24.050     24.20  3421446.0\n",
       "2025-03-07    24.00  24.3500  23.520     24.00  3463954.0\n",
       "2025-03-10    23.47  23.5799  22.260     22.44  6130533.0\n",
       "\n",
       "[100 rows x 5 columns]"
      ]
     },
     "execution_count": 6,
     "metadata": {},
     "output_type": "execute_result"
    }
   ],
   "source": [
    "df = pd.DataFrame.from_dict(gme_data, orient = 'index')\n",
    "df.index = pd.to_datetime(df.index)\n",
    "df = df.astype(float)\n",
    "df = df.sort_index()\n",
    "df"
   ]
  },
  {
   "cell_type": "code",
   "execution_count": 7,
   "id": "f81ecd13-abf3-4f57-8c4b-742ca62db516",
   "metadata": {},
   "outputs": [],
   "source": [
    "# get rid of 1s and 2s in front of column names\n",
    "df.columns = df.columns.str.replace(r\"^\\d+\\.\\s*\", \"\", regex=True)"
   ]
  },
  {
   "cell_type": "code",
   "execution_count": 8,
   "id": "ade20448-a8d8-4705-99b0-46b2666628ee",
   "metadata": {},
   "outputs": [
    {
     "data": {
      "text/plain": [
       "open      0\n",
       "high      0\n",
       "low       0\n",
       "close     0\n",
       "volume    0\n",
       "dtype: int64"
      ]
     },
     "execution_count": 8,
     "metadata": {},
     "output_type": "execute_result"
    }
   ],
   "source": [
    "df.isnull().sum()"
   ]
  },
  {
   "cell_type": "code",
   "execution_count": 9,
   "id": "a5ee73c0-5a7c-4728-8670-5a8e66b10088",
   "metadata": {},
   "outputs": [
    {
     "name": "stdout",
     "output_type": "stream",
     "text": [
      "2024-10-14    21.33\n",
      "2024-10-15    21.27\n",
      "2024-10-16    21.66\n",
      "2024-10-17    21.41\n",
      "2024-10-18    21.22\n",
      "2024-10-21    20.70\n",
      "2024-10-22    20.93\n",
      "2024-10-23    20.54\n",
      "2024-10-24    20.63\n",
      "2024-10-25    20.57\n",
      "2024-10-28    22.73\n",
      "2024-10-29    22.68\n",
      "2024-10-30    23.28\n",
      "2024-10-31    22.18\n",
      "2024-11-01    22.41\n",
      "2024-11-04    22.33\n",
      "2024-11-05    22.99\n",
      "2024-11-06    23.10\n",
      "2024-11-07    23.45\n",
      "2024-11-08    24.88\n",
      "2024-11-11    27.26\n",
      "2024-11-12    26.84\n",
      "2024-11-13    26.46\n",
      "2024-11-14    27.37\n",
      "2024-11-15    26.59\n",
      "2024-11-18    26.44\n",
      "2024-11-19    27.57\n",
      "2024-11-20    28.45\n",
      "2024-11-21    27.82\n",
      "2024-11-22    27.90\n",
      "Name: close, dtype: float64\n"
     ]
    }
   ],
   "source": [
    "print(df['close'].head(30))"
   ]
  },
  {
   "cell_type": "code",
   "execution_count": 10,
   "id": "3760cc50-ce7d-4cb7-9885-12ea4e0f7b79",
   "metadata": {},
   "outputs": [
    {
     "name": "stdout",
     "output_type": "stream",
     "text": [
      "DatetimeIndex(['2024-10-14', '2024-10-15', '2024-10-16', '2024-10-17',\n",
      "               '2024-10-18', '2024-10-21', '2024-10-22', '2024-10-23',\n",
      "               '2024-10-24', '2024-10-25', '2024-10-28', '2024-10-29',\n",
      "               '2024-10-30', '2024-10-31', '2024-11-01', '2024-11-04',\n",
      "               '2024-11-05', '2024-11-06', '2024-11-07', '2024-11-08',\n",
      "               '2024-11-11', '2024-11-12', '2024-11-13', '2024-11-14',\n",
      "               '2024-11-15', '2024-11-18', '2024-11-19', '2024-11-20',\n",
      "               '2024-11-21', '2024-11-22', '2024-11-25', '2024-11-26',\n",
      "               '2024-11-27', '2024-11-29', '2024-12-02', '2024-12-03',\n",
      "               '2024-12-04', '2024-12-05', '2024-12-06', '2024-12-09',\n",
      "               '2024-12-10', '2024-12-11', '2024-12-12', '2024-12-13',\n",
      "               '2024-12-16', '2024-12-17', '2024-12-18', '2024-12-19',\n",
      "               '2024-12-20', '2024-12-23', '2024-12-24', '2024-12-26',\n",
      "               '2024-12-27', '2024-12-30', '2024-12-31', '2025-01-02',\n",
      "               '2025-01-03', '2025-01-06', '2025-01-07', '2025-01-08',\n",
      "               '2025-01-10', '2025-01-13', '2025-01-14', '2025-01-15',\n",
      "               '2025-01-16', '2025-01-17', '2025-01-21', '2025-01-22',\n",
      "               '2025-01-23', '2025-01-24', '2025-01-27', '2025-01-28',\n",
      "               '2025-01-29', '2025-01-30', '2025-01-31', '2025-02-03',\n",
      "               '2025-02-04', '2025-02-05', '2025-02-06', '2025-02-07',\n",
      "               '2025-02-10', '2025-02-11', '2025-02-12', '2025-02-13',\n",
      "               '2025-02-14', '2025-02-18', '2025-02-19', '2025-02-20',\n",
      "               '2025-02-21', '2025-02-24', '2025-02-25', '2025-02-26',\n",
      "               '2025-02-27', '2025-02-28', '2025-03-03', '2025-03-04',\n",
      "               '2025-03-05', '2025-03-06', '2025-03-07', '2025-03-10'],\n",
      "              dtype='datetime64[ns]', freq=None)\n"
     ]
    }
   ],
   "source": [
    "print(df.index)"
   ]
  },
  {
   "cell_type": "code",
   "execution_count": 13,
   "id": "edcfa8f3-9a90-41e8-9cf0-176022510654",
   "metadata": {},
   "outputs": [
    {
     "data": {
      "image/png": "[encoded data removed]",
      "text/plain": [
       "<Figure size 1800x900 with 1 Axes>"
      ]
     },
     "metadata": {},
     "output_type": "display_data"
    }
   ],
   "source": [
    "plt.figure(figsize = (18,9))\n",
    "plt.plot(df['close'])\n",
    "plt.title('Daily Close Price of GME')\n",
    "plt.yticks(range(10,40,5));"
   ]
  },
  {
   "cell_type": "code",
   "execution_count": null,
   "id": "99103d05-2010-421e-a9f3-3351cccacc04",
   "metadata": {},
   "outputs": [],
   "source": []
  }
 ],
 "metadata": {
  "kernelspec": {
   "display_name": "Python 3 (ipykernel)",
   "language": "python",
   "name": "python3"
  },
  "language_info": {
   "codemirror_mode": {
    "name": "ipython",
    "version": 3
   },
   "file_extension": ".py",
   "mimetype": "text/x-python",
   "name": "python",
   "nbconvert_exporter": "python",
   "pygments_lexer": "ipython3",
   "version": "3.12.3"
  }
 },
 "nbformat": 4,
 "nbformat_minor": 5
}
