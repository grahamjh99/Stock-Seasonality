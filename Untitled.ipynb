{
 "cells": [
  {
   "cell_type": "code",
   "execution_count": 6,
   "id": "6a8ad426-0638-4793-bb45-51b1a362de50",
   "metadata": {},
   "outputs": [],
   "source": [
    "import pandas as pd\n",
    "import numpy as py\n",
    "import matplotlib.pyplot as plt\n",
    "\n",
    "# Needed for API key\n",
    "from dotenv import load_dotenv\n",
    "import os\n",
    "import requests"
   ]
  },
  {
   "cell_type": "code",
   "execution_count": 7,
   "id": "144cca57-f55a-467f-ab99-53b79a65a9b5",
   "metadata": {},
   "outputs": [],
   "source": [
    "key = os.getenv('key')"
   ]
  },
  {
   "cell_type": "code",
   "execution_count": 8,
   "id": "e808fa0c-ed98-4420-9fcb-5d6ed83e472d",
   "metadata": {},
   "outputs": [],
   "source": [
    "url = f'https://www.alphavantage.co/query?function=TIME_SERIES_DAILY&symbol=GME&apikey={key}'\n",
    "r = requests.get(url)\n",
    "data = r.json()"
   ]
  },
  {
   "cell_type": "code",
   "execution_count": 17,
   "id": "630bb3e4-af0b-4847-9941-8db9e04b5887",
   "metadata": {},
   "outputs": [
    {
     "data": {
      "text/plain": [
       "{'1. Information': 'Daily Prices (open, high, low, close) and Volumes',\n",
       " '2. Symbol': 'GME',\n",
       " '3. Last Refreshed': '2025-03-05',\n",
       " '4. Output Size': 'Compact',\n",
       " '5. Time Zone': 'US/Eastern'}"
      ]
     },
     "execution_count": 17,
     "metadata": {},
     "output_type": "execute_result"
    }
   ],
   "source": [
    "data['Meta Data']"
   ]
  },
  {
   "cell_type": "code",
   "execution_count": 13,
   "id": "9bf08a3f-3742-4f97-b0dd-b1138efe1137",
   "metadata": {
    "scrolled": true
   },
   "outputs": [],
   "source": [
    "gme_data = data['Time Series (Daily)']"
   ]
  },
  {
   "cell_type": "code",
   "execution_count": 14,
   "id": "a869c2a9-0c9c-4c4f-ab37-45708da140bd",
   "metadata": {},
   "outputs": [
    {
     "data": {
      "text/html": [
       "<div>\n",
       "<style scoped>\n",
       "    .dataframe tbody tr th:only-of-type {\n",
       "        vertical-align: middle;\n",
       "    }\n",
       "\n",
       "    .dataframe tbody tr th {\n",
       "        vertical-align: top;\n",
       "    }\n",
       "\n",
       "    .dataframe thead th {\n",
       "        text-align: right;\n",
       "    }\n",
       "</style>\n",
       "<table border=\"1\" class=\"dataframe\">\n",
       "  <thead>\n",
       "    <tr style=\"text-align: right;\">\n",
       "      <th></th>\n",
       "      <th>1. open</th>\n",
       "      <th>2. high</th>\n",
       "      <th>3. low</th>\n",
       "      <th>4. close</th>\n",
       "      <th>5. volume</th>\n",
       "    </tr>\n",
       "  </thead>\n",
       "  <tbody>\n",
       "    <tr>\n",
       "      <th>2025-03-05</th>\n",
       "      <td>24.3300</td>\n",
       "      <td>25.1600</td>\n",
       "      <td>24.1100</td>\n",
       "      <td>25.0700</td>\n",
       "      <td>3282452</td>\n",
       "    </tr>\n",
       "    <tr>\n",
       "      <th>2025-03-04</th>\n",
       "      <td>23.7700</td>\n",
       "      <td>24.8600</td>\n",
       "      <td>23.4400</td>\n",
       "      <td>24.3000</td>\n",
       "      <td>5068726</td>\n",
       "    </tr>\n",
       "    <tr>\n",
       "      <th>2025-03-03</th>\n",
       "      <td>25.2600</td>\n",
       "      <td>25.4800</td>\n",
       "      <td>24.1800</td>\n",
       "      <td>24.4000</td>\n",
       "      <td>4290981</td>\n",
       "    </tr>\n",
       "    <tr>\n",
       "      <th>2025-02-28</th>\n",
       "      <td>24.3300</td>\n",
       "      <td>25.0965</td>\n",
       "      <td>24.2000</td>\n",
       "      <td>25.0400</td>\n",
       "      <td>4137068</td>\n",
       "    </tr>\n",
       "    <tr>\n",
       "      <th>2025-02-27</th>\n",
       "      <td>25.0000</td>\n",
       "      <td>25.3700</td>\n",
       "      <td>24.1400</td>\n",
       "      <td>24.4800</td>\n",
       "      <td>4589982</td>\n",
       "    </tr>\n",
       "    <tr>\n",
       "      <th>...</th>\n",
       "      <td>...</td>\n",
       "      <td>...</td>\n",
       "      <td>...</td>\n",
       "      <td>...</td>\n",
       "      <td>...</td>\n",
       "    </tr>\n",
       "    <tr>\n",
       "      <th>2024-10-15</th>\n",
       "      <td>21.4500</td>\n",
       "      <td>21.6800</td>\n",
       "      <td>20.9750</td>\n",
       "      <td>21.2700</td>\n",
       "      <td>4851908</td>\n",
       "    </tr>\n",
       "    <tr>\n",
       "      <th>2024-10-14</th>\n",
       "      <td>20.7500</td>\n",
       "      <td>21.6700</td>\n",
       "      <td>20.4600</td>\n",
       "      <td>21.3300</td>\n",
       "      <td>6636553</td>\n",
       "    </tr>\n",
       "    <tr>\n",
       "      <th>2024-10-11</th>\n",
       "      <td>20.6600</td>\n",
       "      <td>21.2200</td>\n",
       "      <td>20.6600</td>\n",
       "      <td>20.8300</td>\n",
       "      <td>3931552</td>\n",
       "    </tr>\n",
       "    <tr>\n",
       "      <th>2024-10-10</th>\n",
       "      <td>20.4700</td>\n",
       "      <td>21.0450</td>\n",
       "      <td>20.3750</td>\n",
       "      <td>20.9100</td>\n",
       "      <td>4180798</td>\n",
       "    </tr>\n",
       "    <tr>\n",
       "      <th>2024-10-09</th>\n",
       "      <td>20.5000</td>\n",
       "      <td>20.7400</td>\n",
       "      <td>20.3000</td>\n",
       "      <td>20.5000</td>\n",
       "      <td>3914000</td>\n",
       "    </tr>\n",
       "  </tbody>\n",
       "</table>\n",
       "<p>100 rows × 5 columns</p>\n",
       "</div>"
      ],
      "text/plain": [
       "            1. open  2. high   3. low 4. close 5. volume\n",
       "2025-03-05  24.3300  25.1600  24.1100  25.0700   3282452\n",
       "2025-03-04  23.7700  24.8600  23.4400  24.3000   5068726\n",
       "2025-03-03  25.2600  25.4800  24.1800  24.4000   4290981\n",
       "2025-02-28  24.3300  25.0965  24.2000  25.0400   4137068\n",
       "2025-02-27  25.0000  25.3700  24.1400  24.4800   4589982\n",
       "...             ...      ...      ...      ...       ...\n",
       "2024-10-15  21.4500  21.6800  20.9750  21.2700   4851908\n",
       "2024-10-14  20.7500  21.6700  20.4600  21.3300   6636553\n",
       "2024-10-11  20.6600  21.2200  20.6600  20.8300   3931552\n",
       "2024-10-10  20.4700  21.0450  20.3750  20.9100   4180798\n",
       "2024-10-09  20.5000  20.7400  20.3000  20.5000   3914000\n",
       "\n",
       "[100 rows x 5 columns]"
      ]
     },
     "execution_count": 14,
     "metadata": {},
     "output_type": "execute_result"
    }
   ],
   "source": [
    "df = pd.DataFrame.from_dict(gme_data, orient = 'index')\n",
    "df"
   ]
  },
  {
   "cell_type": "code",
   "execution_count": 18,
   "id": "f81ecd13-abf3-4f57-8c4b-742ca62db516",
   "metadata": {},
   "outputs": [],
   "source": [
    "# get rid of 1s and 2s in front of column names\n",
    "df.columns = df.columns.str.replace(r\"^\\d+\\.\\s*\", \"\", regex=True)"
   ]
  },
  {
   "cell_type": "code",
   "execution_count": 19,
   "id": "ade20448-a8d8-4705-99b0-46b2666628ee",
   "metadata": {},
   "outputs": [
    {
     "data": {
      "text/plain": [
       "open      0\n",
       "high      0\n",
       "low       0\n",
       "close     0\n",
       "volume    0\n",
       "dtype: int64"
      ]
     },
     "execution_count": 19,
     "metadata": {},
     "output_type": "execute_result"
    }
   ],
   "source": [
    "df.isnull().sum()"
   ]
  },
  {
   "cell_type": "code",
   "execution_count": null,
   "id": "edcfa8f3-9a90-41e8-9cf0-176022510654",
   "metadata": {},
   "outputs": [],
   "source": []
  }
 ],
 "metadata": {
  "kernelspec": {
   "display_name": "Python 3 (ipykernel)",
   "language": "python",
   "name": "python3"
  },
  "language_info": {
   "codemirror_mode": {
    "name": "ipython",
    "version": 3
   },
   "file_extension": ".py",
   "mimetype": "text/x-python",
   "name": "python",
   "nbconvert_exporter": "python",
   "pygments_lexer": "ipython3",
   "version": "3.12.3"
  }
 },
 "nbformat": 4,
 "nbformat_minor": 5
}
